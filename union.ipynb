{
  "nbformat": 4,
  "nbformat_minor": 0,
  "metadata": {
    "colab": {
      "provenance": [],
      "include_colab_link": true
    },
    "kernelspec": {
      "name": "python3",
      "display_name": "Python 3"
    },
    "language_info": {
      "name": "python"
    }
  },
  "cells": [
    {
      "cell_type": "markdown",
      "metadata": {
        "id": "view-in-github",
        "colab_type": "text"
      },
      "source": [
        "<a href=\"https://colab.research.google.com/github/gavacq/union/blob/master/union.ipynb\" target=\"_parent\"><img src=\"https://colab.research.google.com/assets/colab-badge.svg\" alt=\"Open In Colab\"/></a>"
      ]
    },
    {
      "cell_type": "code",
      "execution_count": null,
      "metadata": {
        "id": "PpXs16gdo0ws"
      },
      "outputs": [],
      "source": [
        "import numpy as np"
      ]
    },
    {
      "cell_type": "markdown",
      "source": [
        "Import"
      ],
      "metadata": {
        "id": "St3O0N6RqXqK"
      }
    },
    {
      "cell_type": "markdown",
      "source": [
        "2022-12-18, 12:56 p.m. - Khwaish Dehra: How is everything?\n",
        "2022-12-18, 12:57 p.m. - Gavin Acquroff: Baby we still sitting on the runway\n",
        "2022-12-18, 12:57 p.m. - Gavin Acquroff: 3 hours\n",
        "2022-12-18, 12:57 p.m. - Khwaish Dehra: What why?\n",
        "2022-12-18, 12:57 p.m. - Khwaish Dehra: Is everything okay?\n",
        "2022-12-18, 12:57 p.m. - Khwaish Dehra: Because of snow?\n",
        "2022-12-18, 12:57 p.m. - Gavin Acquroff: Yeah it's caused all kinds of delays\n",
        "2022-12-18, 12:57 p.m. - Khwaish Dehra: Oh my!!!\n",
        "2022-12-18, 12:58 p.m. - Khwaish Dehra: Are you hungry?\n",
        "2022-12-18, 12:58 p.m. - Gavin Acquroff: Yeah\n",
        "2022-12-18, 12:58 p.m. - Khwaish Dehra: Damn\n",
        "2022-12-18, 12:59 p.m. - Khwaish Dehra: Can you order something here?\n",
        "2022-12-18, 12:59 p.m. - Khwaish Dehra: Baby I feel so sad!\n",
        "2022-12-18, 12:59 p.m. - Gavin Acquroff: They're doing some plane food for purchase right now but I don't want it\n",
        "2022-12-18, 1:00 p.m. - Khwaish Dehra: How far is your home from the airport ?"
      ],
      "metadata": {
        "id": "tujZNaoHriML"
      }
    },
    {
      "cell_type": "code",
      "source": [
        "from google.colab import drive\n",
        "drive.mount('/content/drive')\n"
      ],
      "metadata": {
        "id": "dIwy_qNfs1ej",
        "colab": {
          "base_uri": "https://localhost:8080/"
        },
        "outputId": "ba5bc453-94af-4ac0-e14f-0b344fa13012"
      },
      "execution_count": null,
      "outputs": [
        {
          "output_type": "stream",
          "name": "stdout",
          "text": [
            "Drive already mounted at /content/drive; to attempt to forcibly remount, call drive.mount(\"/content/drive\", force_remount=True).\n"
          ]
        }
      ]
    },
    {
      "cell_type": "code",
      "source": [
        "from google.colab import drive\n",
        "drive.mount('/content/drive')"
      ],
      "metadata": {
        "colab": {
          "base_uri": "https://localhost:8080/"
        },
        "id": "KOBLxs3P5VUS",
        "outputId": "dc168b2f-0cb3-4230-98d0-93a054f7ec09"
      },
      "execution_count": null,
      "outputs": [
        {
          "output_type": "stream",
          "name": "stdout",
          "text": [
            "Drive already mounted at /content/drive; to attempt to forcibly remount, call drive.mount(\"/content/drive\", force_remount=True).\n"
          ]
        }
      ]
    },
    {
      "cell_type": "code",
      "source": [
        "#path = \"/Users/razy/Downloads/sample.txt\"\n",
        "path='/content/Sample.txt'"
      ],
      "metadata": {
        "id": "gT4tP1PTtBYs"
      },
      "execution_count": null,
      "outputs": []
    },
    {
      "cell_type": "code",
      "source": [
        "from google.colab import files\n",
        "sample = files.upload()\n",
        "#path=\"Users/razy/Downloads/sample.txt\""
      ],
      "metadata": {
        "colab": {
          "base_uri": "https://localhost:8080/",
          "height": 69
        },
        "id": "qu44yavPsTm7",
        "outputId": "8cc979ec-f070-4100-9a17-85d56cd839fd"
      },
      "execution_count": null,
      "outputs": [
        {
          "output_type": "display_data",
          "data": {
            "text/plain": [
              "<IPython.core.display.HTML object>"
            ],
            "text/html": [
              "\n",
              "     <input type=\"file\" id=\"files-32172541-0e16-4848-94a4-693d35ed5671\" name=\"files[]\" multiple disabled\n",
              "        style=\"border:none\" />\n",
              "     <output id=\"result-32172541-0e16-4848-94a4-693d35ed5671\">\n",
              "      Upload widget is only available when the cell has been executed in the\n",
              "      current browser session. Please rerun this cell to enable.\n",
              "      </output>\n",
              "      <script>// Copyright 2017 Google LLC\n",
              "//\n",
              "// Licensed under the Apache License, Version 2.0 (the \"License\");\n",
              "// you may not use this file except in compliance with the License.\n",
              "// You may obtain a copy of the License at\n",
              "//\n",
              "//      http://www.apache.org/licenses/LICENSE-2.0\n",
              "//\n",
              "// Unless required by applicable law or agreed to in writing, software\n",
              "// distributed under the License is distributed on an \"AS IS\" BASIS,\n",
              "// WITHOUT WARRANTIES OR CONDITIONS OF ANY KIND, either express or implied.\n",
              "// See the License for the specific language governing permissions and\n",
              "// limitations under the License.\n",
              "\n",
              "/**\n",
              " * @fileoverview Helpers for google.colab Python module.\n",
              " */\n",
              "(function(scope) {\n",
              "function span(text, styleAttributes = {}) {\n",
              "  const element = document.createElement('span');\n",
              "  element.textContent = text;\n",
              "  for (const key of Object.keys(styleAttributes)) {\n",
              "    element.style[key] = styleAttributes[key];\n",
              "  }\n",
              "  return element;\n",
              "}\n",
              "\n",
              "// Max number of bytes which will be uploaded at a time.\n",
              "const MAX_PAYLOAD_SIZE = 100 * 1024;\n",
              "\n",
              "function _uploadFiles(inputId, outputId) {\n",
              "  const steps = uploadFilesStep(inputId, outputId);\n",
              "  const outputElement = document.getElementById(outputId);\n",
              "  // Cache steps on the outputElement to make it available for the next call\n",
              "  // to uploadFilesContinue from Python.\n",
              "  outputElement.steps = steps;\n",
              "\n",
              "  return _uploadFilesContinue(outputId);\n",
              "}\n",
              "\n",
              "// This is roughly an async generator (not supported in the browser yet),\n",
              "// where there are multiple asynchronous steps and the Python side is going\n",
              "// to poll for completion of each step.\n",
              "// This uses a Promise to block the python side on completion of each step,\n",
              "// then passes the result of the previous step as the input to the next step.\n",
              "function _uploadFilesContinue(outputId) {\n",
              "  const outputElement = document.getElementById(outputId);\n",
              "  const steps = outputElement.steps;\n",
              "\n",
              "  const next = steps.next(outputElement.lastPromiseValue);\n",
              "  return Promise.resolve(next.value.promise).then((value) => {\n",
              "    // Cache the last promise value to make it available to the next\n",
              "    // step of the generator.\n",
              "    outputElement.lastPromiseValue = value;\n",
              "    return next.value.response;\n",
              "  });\n",
              "}\n",
              "\n",
              "/**\n",
              " * Generator function which is called between each async step of the upload\n",
              " * process.\n",
              " * @param {string} inputId Element ID of the input file picker element.\n",
              " * @param {string} outputId Element ID of the output display.\n",
              " * @return {!Iterable<!Object>} Iterable of next steps.\n",
              " */\n",
              "function* uploadFilesStep(inputId, outputId) {\n",
              "  const inputElement = document.getElementById(inputId);\n",
              "  inputElement.disabled = false;\n",
              "\n",
              "  const outputElement = document.getElementById(outputId);\n",
              "  outputElement.innerHTML = '';\n",
              "\n",
              "  const pickedPromise = new Promise((resolve) => {\n",
              "    inputElement.addEventListener('change', (e) => {\n",
              "      resolve(e.target.files);\n",
              "    });\n",
              "  });\n",
              "\n",
              "  const cancel = document.createElement('button');\n",
              "  inputElement.parentElement.appendChild(cancel);\n",
              "  cancel.textContent = 'Cancel upload';\n",
              "  const cancelPromise = new Promise((resolve) => {\n",
              "    cancel.onclick = () => {\n",
              "      resolve(null);\n",
              "    };\n",
              "  });\n",
              "\n",
              "  // Wait for the user to pick the files.\n",
              "  const files = yield {\n",
              "    promise: Promise.race([pickedPromise, cancelPromise]),\n",
              "    response: {\n",
              "      action: 'starting',\n",
              "    }\n",
              "  };\n",
              "\n",
              "  cancel.remove();\n",
              "\n",
              "  // Disable the input element since further picks are not allowed.\n",
              "  inputElement.disabled = true;\n",
              "\n",
              "  if (!files) {\n",
              "    return {\n",
              "      response: {\n",
              "        action: 'complete',\n",
              "      }\n",
              "    };\n",
              "  }\n",
              "\n",
              "  for (const file of files) {\n",
              "    const li = document.createElement('li');\n",
              "    li.append(span(file.name, {fontWeight: 'bold'}));\n",
              "    li.append(span(\n",
              "        `(${file.type || 'n/a'}) - ${file.size} bytes, ` +\n",
              "        `last modified: ${\n",
              "            file.lastModifiedDate ? file.lastModifiedDate.toLocaleDateString() :\n",
              "                                    'n/a'} - `));\n",
              "    const percent = span('0% done');\n",
              "    li.appendChild(percent);\n",
              "\n",
              "    outputElement.appendChild(li);\n",
              "\n",
              "    const fileDataPromise = new Promise((resolve) => {\n",
              "      const reader = new FileReader();\n",
              "      reader.onload = (e) => {\n",
              "        resolve(e.target.result);\n",
              "      };\n",
              "      reader.readAsArrayBuffer(file);\n",
              "    });\n",
              "    // Wait for the data to be ready.\n",
              "    let fileData = yield {\n",
              "      promise: fileDataPromise,\n",
              "      response: {\n",
              "        action: 'continue',\n",
              "      }\n",
              "    };\n",
              "\n",
              "    // Use a chunked sending to avoid message size limits. See b/62115660.\n",
              "    let position = 0;\n",
              "    do {\n",
              "      const length = Math.min(fileData.byteLength - position, MAX_PAYLOAD_SIZE);\n",
              "      const chunk = new Uint8Array(fileData, position, length);\n",
              "      position += length;\n",
              "\n",
              "      const base64 = btoa(String.fromCharCode.apply(null, chunk));\n",
              "      yield {\n",
              "        response: {\n",
              "          action: 'append',\n",
              "          file: file.name,\n",
              "          data: base64,\n",
              "        },\n",
              "      };\n",
              "\n",
              "      let percentDone = fileData.byteLength === 0 ?\n",
              "          100 :\n",
              "          Math.round((position / fileData.byteLength) * 100);\n",
              "      percent.textContent = `${percentDone}% done`;\n",
              "\n",
              "    } while (position < fileData.byteLength);\n",
              "  }\n",
              "\n",
              "  // All done.\n",
              "  yield {\n",
              "    response: {\n",
              "      action: 'complete',\n",
              "    }\n",
              "  };\n",
              "}\n",
              "\n",
              "scope.google = scope.google || {};\n",
              "scope.google.colab = scope.google.colab || {};\n",
              "scope.google.colab._files = {\n",
              "  _uploadFiles,\n",
              "  _uploadFilesContinue,\n",
              "};\n",
              "})(self);\n",
              "</script> "
            ]
          },
          "metadata": {}
        },
        {
          "output_type": "stream",
          "name": "stdout",
          "text": [
            "Saving Sample.txt to Sample (1).txt\n"
          ]
        }
      ]
    },
    {
      "cell_type": "code",
      "source": [
        "sample"
      ],
      "metadata": {
        "colab": {
          "base_uri": "https://localhost:8080/"
        },
        "id": "c7Uk-Taasqhm",
        "outputId": "407b0224-c269-410d-83fa-7c2bb9a61e45"
      },
      "execution_count": null,
      "outputs": [
        {
          "output_type": "execute_result",
          "data": {
            "text/plain": [
              "{'Sample (1).txt': b\"2022-05-10, 08:30 p.m. - John: Hey love, just wanted to let you know that you are on my mind constantly.\\n2022-05-10, 08:31 p.m. - Sarah: Aww, you always know how to make my heart flutter! I miss you so much.\\n2022-05-10, 08:32 p.m. - John: I miss you too, darling. Every moment without you feels incomplete.\\n2022-05-10, 08:33 p.m. - Sarah: Remember when we watched the stars together last summer? It was magical.\\n2022-05-10, 08:34 p.m. - John: Yes, I will never forget that night. It felt like the universe was conspiring to bring us closer.\\n2022-05-10, 08:35 p.m. - Sarah: I wish we could relive that moment every day. It was pure bliss being in your arms.\\n2022-05-10, 08:36 p.m. - John: Me too, my love. But even when we are apart, you are always in my heart.\\n2022-05-10, 08:37 p.m. - Sarah: You are my rock, John. Knowing you are there for me makes everything seem possible.\\n2022-05-10, 08:38 p.m. - John: And you are my guiding light, Sarah. With you by my side, I feel invincible.\\n2022-05-10, 08:39 p.m. - Sarah: Let us promise to always support and cherish each other, no matter what life throws our way.\\n2022-05-10, 08:40 p.m. - John: I promise, my love. Together, we can conquer anything.\\n2022-05-10, 08:41 p.m. - Sarah: Forever and always.\\n2022-05-10, 08:42 p.m. - John: Forever and always.\\n2023-02-14, 10:00 a.m. - Sarah: Good morning sunshine! Happy Valentine's Day to the most amazing boyfriend a girl could ask for.\\n 2023-02-14, 10:05 a.m. - John: Good morning beautiful! Woke up thinking about you too. Your message made my day already.  What are you up to today?\\n 2023-02-14, 10:10 a.m. - Sarah: Just getting some work done at home this morning. But I'm definitely planning on taking some time off later to celebrate with you! Any special plans in mind?\\n 2023-02-14, 10:15 a.m. - John: I was actually hoping to surprise you! I can't tell you all the details yet, but how about you get ready for a romantic evening?\\n 2023-02-14, 10:20 a.m. - Sarah: (heart emoji)  Love surprises! Can't wait to see what you have planned. I'll definitely be ready for a romantic evening.\\n 2023-02-14, 07:00 p.m. - John: Hey beautiful, I'm just outside your door. Open up!\\n 2023-02-14, 07:05 p.m. - Sarah:(blushing emoji)  On my way!\\n 2023-02-14, 11:30 p.m. - Sarah: Wow, John, that was incredible! Thank you for such a magical Valentine's Day.\\n 2023-02-14, 11:35 p.m. - John: Seeing the smile on your face was the best part of my night. I am so happy you had a good time. You deserve it all.\\n 2023-02-15, 08:00 a.m. - John: Good morning again beautiful. Still cannot stop thinking about you.\\n 2023-02-15, 08:10 a.m. - Sarah: Good morning to you too! Waking up feeling happy and loved, thanks to you.\\n 2023-03-03, 05:00 p.m. - John: Hey love, how was your day? Feeling a little stressed from work here.\\n2023-03-03, 05:10 p.m. - Sarah: Oh no, that is not good! Sending you virtual hugs! My day was okay, but I would much rather be there to help you unwind. Anything I can do from here?\\n2023-03-03, 05:15 p.m. - John: Just hearing from you helps a lot. Maybe we can video chat later and you can distract me with your beautiful smile?\\n2023-03-03, 05:20 p.m. - Sarah: Definitely! Count me in. I will be free around 7 p.m. Does that work for you?\\n2023-03-03, 05:25 p.m. - John: Perfect! Can't wait to see you (even virtually). That definitely helps with the stress already.\\n 2023-03-03, 09:00 p.m. - John: Thanks for the video chat, love. Feeling much better now.  You always know how to cheer me up.\\n2023-03-03, 09:05 p.m. - Sarah: I am glad I could help! Always happy to be your stress reliever.  But seriously, don't push yourself too hard at work. Remember, you deserve some rest and relaxation too.\\n2023-03-03, 09:10 p.m. - John: You are right, I promise to take it easier tomorrow. And maybe I can make it up to you with a nice dinner this weekend?\\n2023-05-20, 11:45 a.m. - John: I cannot believe you forgot our anniversary again!\\n2023-05-20, 11:46 a.m. - Sarah: Oh please, like you remember anything important without me reminding you!\\n2023-05-20, 11:47 a.m. - John: That is not fair! I work hard to provide for us.\\n2023-05-20, 11:48 a.m. - Sarah: Providing does not excuse forgetting the most special day of the year for us!\\n2023-05-20, 11:49 a.m. - John: Well, maybe if you showed some appreciation once in a while, I would remember!\\n2023-05-20, 11:50 a.m. - Sarah: Appreciation? You want appreciation for basic responsibilities?\\n2023-05-20, 11:51 a.m. - John: You know what? Forget it. I am tired of arguing with you.\\n2023-05-20, 11:52 a.m. - Sarah: Fine, go bury your head in work like you always do.\\n2023-05-20, 11:53 a.m. - John: I cannot talk to you when you are like this. I am leaving.\\n2023-05-20, 11:54 a.m. - Sarah: Just go! You never listen anyway!\"}"
            ]
          },
          "metadata": {},
          "execution_count": 27
        }
      ]
    },
    {
      "cell_type": "code",
      "source": [
        "with open(path, 'r') as file :\n",
        "  data = file.readlines()\n",
        "#import pandas as pd\n"
      ],
      "metadata": {
        "id": "lisNq4q3rJrL"
      },
      "execution_count": null,
      "outputs": []
    },
    {
      "cell_type": "code",
      "source": [
        "#data=pd.read_csv('Users/razy/Downloads/sample.csv')\n",
        "data"
      ],
      "metadata": {
        "id": "ra8e44JGtIGQ",
        "colab": {
          "base_uri": "https://localhost:8080/"
        },
        "outputId": "89a9df53-eb0f-4f28-c74e-397dd837f070"
      },
      "execution_count": null,
      "outputs": [
        {
          "output_type": "execute_result",
          "data": {
            "text/plain": [
              "['2022-05-10, 08:30 p.m. - John: Hey love, just wanted to let you know that you are on my mind constantly.\\n',\n",
              " '2022-05-10, 08:31 p.m. - Sarah: Aww, you always know how to make my heart flutter! I miss you so much.\\n',\n",
              " '2022-05-10, 08:32 p.m. - John: I miss you too, darling. Every moment without you feels incomplete.\\n',\n",
              " '2022-05-10, 08:33 p.m. - Sarah: Remember when we watched the stars together last summer? It was magical.\\n',\n",
              " '2022-05-10, 08:34 p.m. - John: Yes, I will never forget that night. It felt like the universe was conspiring to bring us closer.\\n',\n",
              " '2022-05-10, 08:35 p.m. - Sarah: I wish we could relive that moment every day. It was pure bliss being in your arms.\\n',\n",
              " '2022-05-10, 08:36 p.m. - John: Me too, my love. But even when we are apart, you are always in my heart.\\n',\n",
              " '2022-05-10, 08:37 p.m. - Sarah: You are my rock, John. Knowing you are there for me makes everything seem possible.\\n',\n",
              " '2022-05-10, 08:38 p.m. - John: And you are my guiding light, Sarah. With you by my side, I feel invincible.\\n',\n",
              " '2022-05-10, 08:39 p.m. - Sarah: Let us promise to always support and cherish each other, no matter what life throws our way.\\n',\n",
              " '2022-05-10, 08:40 p.m. - John: I promise, my love. Together, we can conquer anything.\\n',\n",
              " '2022-05-10, 08:41 p.m. - Sarah: Forever and always.\\n',\n",
              " '2022-05-10, 08:42 p.m. - John: Forever and always.\\n',\n",
              " \"2023-02-14, 10:00 a.m. - Sarah: Good morning sunshine! Happy Valentine's Day to the most amazing boyfriend a girl could ask for.\\n\",\n",
              " ' 2023-02-14, 10:05 a.m. - John: Good morning beautiful! Woke up thinking about you too. Your message made my day already.  What are you up to today?\\n',\n",
              " \" 2023-02-14, 10:10 a.m. - Sarah: Just getting some work done at home this morning. But I'm definitely planning on taking some time off later to celebrate with you! Any special plans in mind?\\n\",\n",
              " \" 2023-02-14, 10:15 a.m. - John: I was actually hoping to surprise you! I can't tell you all the details yet, but how about you get ready for a romantic evening?\\n\",\n",
              " \" 2023-02-14, 10:20 a.m. - Sarah: (heart emoji)  Love surprises! Can't wait to see what you have planned. I'll definitely be ready for a romantic evening.\\n\",\n",
              " \" 2023-02-14, 07:00 p.m. - John: Hey beautiful, I'm just outside your door. Open up!\\n\",\n",
              " ' 2023-02-14, 07:05 p.m. - Sarah:(blushing emoji)  On my way!\\n',\n",
              " \" 2023-02-14, 11:30 p.m. - Sarah: Wow, John, that was incredible! Thank you for such a magical Valentine's Day.\\n\",\n",
              " ' 2023-02-14, 11:35 p.m. - John: Seeing the smile on your face was the best part of my night. I am so happy you had a good time. You deserve it all.\\n',\n",
              " ' 2023-02-15, 08:00 a.m. - John: Good morning again beautiful. Still cannot stop thinking about you.\\n',\n",
              " ' 2023-02-15, 08:10 a.m. - Sarah: Good morning to you too! Waking up feeling happy and loved, thanks to you.\\n',\n",
              " ' 2023-03-03, 05:00 p.m. - John: Hey love, how was your day? Feeling a little stressed from work here.\\n',\n",
              " '2023-03-03, 05:10 p.m. - Sarah: Oh no, that is not good! Sending you virtual hugs! My day was okay, but I would much rather be there to help you unwind. Anything I can do from here?\\n',\n",
              " '2023-03-03, 05:15 p.m. - John: Just hearing from you helps a lot. Maybe we can video chat later and you can distract me with your beautiful smile?\\n',\n",
              " '2023-03-03, 05:20 p.m. - Sarah: Definitely! Count me in. I will be free around 7 p.m. Does that work for you?\\n',\n",
              " \"2023-03-03, 05:25 p.m. - John: Perfect! Can't wait to see you (even virtually). That definitely helps with the stress already.\\n\",\n",
              " ' 2023-03-03, 09:00 p.m. - John: Thanks for the video chat, love. Feeling much better now.  You always know how to cheer me up.\\n',\n",
              " \"2023-03-03, 09:05 p.m. - Sarah: I am glad I could help! Always happy to be your stress reliever.  But seriously, don't push yourself too hard at work. Remember, you deserve some rest and relaxation too.\\n\",\n",
              " '2023-03-03, 09:10 p.m. - John: You are right, I promise to take it easier tomorrow. And maybe I can make it up to you with a nice dinner this weekend?\\n',\n",
              " '2023-05-20, 11:45 a.m. - John: I cannot believe you forgot our anniversary again!\\n',\n",
              " '2023-05-20, 11:46 a.m. - Sarah: Oh please, like you remember anything important without me reminding you!\\n',\n",
              " '2023-05-20, 11:47 a.m. - John: That is not fair! I work hard to provide for us.\\n',\n",
              " '2023-05-20, 11:48 a.m. - Sarah: Providing does not excuse forgetting the most special day of the year for us!\\n',\n",
              " '2023-05-20, 11:49 a.m. - John: Well, maybe if you showed some appreciation once in a while, I would remember!\\n',\n",
              " '2023-05-20, 11:50 a.m. - Sarah: Appreciation? You want appreciation for basic responsibilities?\\n',\n",
              " '2023-05-20, 11:51 a.m. - John: You know what? Forget it. I am tired of arguing with you.\\n',\n",
              " '2023-05-20, 11:52 a.m. - Sarah: Fine, go bury your head in work like you always do.\\n',\n",
              " '2023-05-20, 11:53 a.m. - John: I cannot talk to you when you are like this. I am leaving.\\n',\n",
              " '2023-05-20, 11:54 a.m. - Sarah: Just go! You never listen anyway!']"
            ]
          },
          "metadata": {},
          "execution_count": 29
        }
      ]
    },
    {
      "cell_type": "markdown",
      "source": [
        "# New Section"
      ],
      "metadata": {
        "id": "phiJ-t2gQWDM"
      }
    },
    {
      "cell_type": "markdown",
      "source": [
        "data splitting"
      ],
      "metadata": {
        "id": "3tr-JXQktejN"
      }
    },
    {
      "cell_type": "code",
      "source": [
        "for line in data:\n",
        "  print(line.strip())"
      ],
      "metadata": {
        "id": "QByHPbmRteQq",
        "colab": {
          "base_uri": "https://localhost:8080/"
        },
        "outputId": "90df0c21-ea00-46ca-b31f-f4de2dab5114"
      },
      "execution_count": null,
      "outputs": [
        {
          "output_type": "stream",
          "name": "stdout",
          "text": [
            "2022-05-10, 08:30 p.m. - John: Hey love, just wanted to let you know that you are on my mind constantly.\n",
            "2022-05-10, 08:31 p.m. - Sarah: Aww, you always know how to make my heart flutter! I miss you so much.\n",
            "2022-05-10, 08:32 p.m. - John: I miss you too, darling. Every moment without you feels incomplete.\n",
            "2022-05-10, 08:33 p.m. - Sarah: Remember when we watched the stars together last summer? It was magical.\n",
            "2022-05-10, 08:34 p.m. - John: Yes, I will never forget that night. It felt like the universe was conspiring to bring us closer.\n",
            "2022-05-10, 08:35 p.m. - Sarah: I wish we could relive that moment every day. It was pure bliss being in your arms.\n",
            "2022-05-10, 08:36 p.m. - John: Me too, my love. But even when we are apart, you are always in my heart.\n",
            "2022-05-10, 08:37 p.m. - Sarah: You are my rock, John. Knowing you are there for me makes everything seem possible.\n",
            "2022-05-10, 08:38 p.m. - John: And you are my guiding light, Sarah. With you by my side, I feel invincible.\n",
            "2022-05-10, 08:39 p.m. - Sarah: Let us promise to always support and cherish each other, no matter what life throws our way.\n",
            "2022-05-10, 08:40 p.m. - John: I promise, my love. Together, we can conquer anything.\n",
            "2022-05-10, 08:41 p.m. - Sarah: Forever and always.\n",
            "2022-05-10, 08:42 p.m. - John: Forever and always.\n",
            "2023-02-14, 10:00 a.m. - Sarah: Good morning sunshine! Happy Valentine's Day to the most amazing boyfriend a girl could ask for.\n",
            "2023-02-14, 10:05 a.m. - John: Good morning beautiful! Woke up thinking about you too. Your message made my day already.  What are you up to today?\n",
            "2023-02-14, 10:10 a.m. - Sarah: Just getting some work done at home this morning. But I'm definitely planning on taking some time off later to celebrate with you! Any special plans in mind?\n",
            "2023-02-14, 10:15 a.m. - John: I was actually hoping to surprise you! I can't tell you all the details yet, but how about you get ready for a romantic evening?\n",
            "2023-02-14, 10:20 a.m. - Sarah: (heart emoji)  Love surprises! Can't wait to see what you have planned. I'll definitely be ready for a romantic evening.\n",
            "2023-02-14, 07:00 p.m. - John: Hey beautiful, I'm just outside your door. Open up!\n",
            "2023-02-14, 07:05 p.m. - Sarah:(blushing emoji)  On my way!\n",
            "2023-02-14, 11:30 p.m. - Sarah: Wow, John, that was incredible! Thank you for such a magical Valentine's Day.\n",
            "2023-02-14, 11:35 p.m. - John: Seeing the smile on your face was the best part of my night. I am so happy you had a good time. You deserve it all.\n",
            "2023-02-15, 08:00 a.m. - John: Good morning again beautiful. Still cannot stop thinking about you.\n",
            "2023-02-15, 08:10 a.m. - Sarah: Good morning to you too! Waking up feeling happy and loved, thanks to you.\n",
            "2023-03-03, 05:00 p.m. - John: Hey love, how was your day? Feeling a little stressed from work here.\n",
            "2023-03-03, 05:10 p.m. - Sarah: Oh no, that is not good! Sending you virtual hugs! My day was okay, but I would much rather be there to help you unwind. Anything I can do from here?\n",
            "2023-03-03, 05:15 p.m. - John: Just hearing from you helps a lot. Maybe we can video chat later and you can distract me with your beautiful smile?\n",
            "2023-03-03, 05:20 p.m. - Sarah: Definitely! Count me in. I will be free around 7 p.m. Does that work for you?\n",
            "2023-03-03, 05:25 p.m. - John: Perfect! Can't wait to see you (even virtually). That definitely helps with the stress already.\n",
            "2023-03-03, 09:00 p.m. - John: Thanks for the video chat, love. Feeling much better now.  You always know how to cheer me up.\n",
            "2023-03-03, 09:05 p.m. - Sarah: I am glad I could help! Always happy to be your stress reliever.  But seriously, don't push yourself too hard at work. Remember, you deserve some rest and relaxation too.\n",
            "2023-03-03, 09:10 p.m. - John: You are right, I promise to take it easier tomorrow. And maybe I can make it up to you with a nice dinner this weekend?\n",
            "2023-05-20, 11:45 a.m. - John: I cannot believe you forgot our anniversary again!\n",
            "2023-05-20, 11:46 a.m. - Sarah: Oh please, like you remember anything important without me reminding you!\n",
            "2023-05-20, 11:47 a.m. - John: That is not fair! I work hard to provide for us.\n",
            "2023-05-20, 11:48 a.m. - Sarah: Providing does not excuse forgetting the most special day of the year for us!\n",
            "2023-05-20, 11:49 a.m. - John: Well, maybe if you showed some appreciation once in a while, I would remember!\n",
            "2023-05-20, 11:50 a.m. - Sarah: Appreciation? You want appreciation for basic responsibilities?\n",
            "2023-05-20, 11:51 a.m. - John: You know what? Forget it. I am tired of arguing with you.\n",
            "2023-05-20, 11:52 a.m. - Sarah: Fine, go bury your head in work like you always do.\n",
            "2023-05-20, 11:53 a.m. - John: I cannot talk to you when you are like this. I am leaving.\n",
            "2023-05-20, 11:54 a.m. - Sarah: Just go! You never listen anyway!\n"
          ]
        }
      ]
    },
    {
      "cell_type": "code",
      "source": [
        "import pandas as pd"
      ],
      "metadata": {
        "id": "rHJ45vP5tMV4"
      },
      "execution_count": null,
      "outputs": []
    },
    {
      "cell_type": "code",
      "source": [
        "df = pd.DataFrame(data, columns=['full'])"
      ],
      "metadata": {
        "id": "CnXybs-HvFMR"
      },
      "execution_count": null,
      "outputs": []
    },
    {
      "cell_type": "code",
      "source": [
        "df.head()\n",
        "#name, id, time, content\n",
        "#from nltk.tokenize import word_tokenize\n"
      ],
      "metadata": {
        "colab": {
          "base_uri": "https://localhost:8080/",
          "height": 204
        },
        "id": "sEHsqjUEvSyT",
        "outputId": "a971363d-2f61-408c-bf44-6b651f580e9f"
      },
      "execution_count": null,
      "outputs": [
        {
          "output_type": "execute_result",
          "data": {
            "text/plain": [
              "                                                full\n",
              "0  2022-05-10, 08:30 p.m. - John: Hey love, just ...\n",
              "1  2022-05-10, 08:31 p.m. - Sarah: Aww, you alway...\n",
              "2  2022-05-10, 08:32 p.m. - John: I miss you too,...\n",
              "3  2022-05-10, 08:33 p.m. - Sarah: Remember when ...\n",
              "4  2022-05-10, 08:34 p.m. - John: Yes, I will nev..."
            ],
            "text/html": [
              "\n",
              "  <div id=\"df-48609524-bc2f-42e5-b45a-dc3e22151d9f\" class=\"colab-df-container\">\n",
              "    <div>\n",
              "<style scoped>\n",
              "    .dataframe tbody tr th:only-of-type {\n",
              "        vertical-align: middle;\n",
              "    }\n",
              "\n",
              "    .dataframe tbody tr th {\n",
              "        vertical-align: top;\n",
              "    }\n",
              "\n",
              "    .dataframe thead th {\n",
              "        text-align: right;\n",
              "    }\n",
              "</style>\n",
              "<table border=\"1\" class=\"dataframe\">\n",
              "  <thead>\n",
              "    <tr style=\"text-align: right;\">\n",
              "      <th></th>\n",
              "      <th>full</th>\n",
              "    </tr>\n",
              "  </thead>\n",
              "  <tbody>\n",
              "    <tr>\n",
              "      <th>0</th>\n",
              "      <td>2022-05-10, 08:30 p.m. - John: Hey love, just ...</td>\n",
              "    </tr>\n",
              "    <tr>\n",
              "      <th>1</th>\n",
              "      <td>2022-05-10, 08:31 p.m. - Sarah: Aww, you alway...</td>\n",
              "    </tr>\n",
              "    <tr>\n",
              "      <th>2</th>\n",
              "      <td>2022-05-10, 08:32 p.m. - John: I miss you too,...</td>\n",
              "    </tr>\n",
              "    <tr>\n",
              "      <th>3</th>\n",
              "      <td>2022-05-10, 08:33 p.m. - Sarah: Remember when ...</td>\n",
              "    </tr>\n",
              "    <tr>\n",
              "      <th>4</th>\n",
              "      <td>2022-05-10, 08:34 p.m. - John: Yes, I will nev...</td>\n",
              "    </tr>\n",
              "  </tbody>\n",
              "</table>\n",
              "</div>\n",
              "    <div class=\"colab-df-buttons\">\n",
              "\n",
              "  <div class=\"colab-df-container\">\n",
              "    <button class=\"colab-df-convert\" onclick=\"convertToInteractive('df-48609524-bc2f-42e5-b45a-dc3e22151d9f')\"\n",
              "            title=\"Convert this dataframe to an interactive table.\"\n",
              "            style=\"display:none;\">\n",
              "\n",
              "  <svg xmlns=\"http://www.w3.org/2000/svg\" height=\"24px\" viewBox=\"0 -960 960 960\">\n",
              "    <path d=\"M120-120v-720h720v720H120Zm60-500h600v-160H180v160Zm220 220h160v-160H400v160Zm0 220h160v-160H400v160ZM180-400h160v-160H180v160Zm440 0h160v-160H620v160ZM180-180h160v-160H180v160Zm440 0h160v-160H620v160Z\"/>\n",
              "  </svg>\n",
              "    </button>\n",
              "\n",
              "  <style>\n",
              "    .colab-df-container {\n",
              "      display:flex;\n",
              "      gap: 12px;\n",
              "    }\n",
              "\n",
              "    .colab-df-convert {\n",
              "      background-color: #E8F0FE;\n",
              "      border: none;\n",
              "      border-radius: 50%;\n",
              "      cursor: pointer;\n",
              "      display: none;\n",
              "      fill: #1967D2;\n",
              "      height: 32px;\n",
              "      padding: 0 0 0 0;\n",
              "      width: 32px;\n",
              "    }\n",
              "\n",
              "    .colab-df-convert:hover {\n",
              "      background-color: #E2EBFA;\n",
              "      box-shadow: 0px 1px 2px rgba(60, 64, 67, 0.3), 0px 1px 3px 1px rgba(60, 64, 67, 0.15);\n",
              "      fill: #174EA6;\n",
              "    }\n",
              "\n",
              "    .colab-df-buttons div {\n",
              "      margin-bottom: 4px;\n",
              "    }\n",
              "\n",
              "    [theme=dark] .colab-df-convert {\n",
              "      background-color: #3B4455;\n",
              "      fill: #D2E3FC;\n",
              "    }\n",
              "\n",
              "    [theme=dark] .colab-df-convert:hover {\n",
              "      background-color: #434B5C;\n",
              "      box-shadow: 0px 1px 3px 1px rgba(0, 0, 0, 0.15);\n",
              "      filter: drop-shadow(0px 1px 2px rgba(0, 0, 0, 0.3));\n",
              "      fill: #FFFFFF;\n",
              "    }\n",
              "  </style>\n",
              "\n",
              "    <script>\n",
              "      const buttonEl =\n",
              "        document.querySelector('#df-48609524-bc2f-42e5-b45a-dc3e22151d9f button.colab-df-convert');\n",
              "      buttonEl.style.display =\n",
              "        google.colab.kernel.accessAllowed ? 'block' : 'none';\n",
              "\n",
              "      async function convertToInteractive(key) {\n",
              "        const element = document.querySelector('#df-48609524-bc2f-42e5-b45a-dc3e22151d9f');\n",
              "        const dataTable =\n",
              "          await google.colab.kernel.invokeFunction('convertToInteractive',\n",
              "                                                    [key], {});\n",
              "        if (!dataTable) return;\n",
              "\n",
              "        const docLinkHtml = 'Like what you see? Visit the ' +\n",
              "          '<a target=\"_blank\" href=https://colab.research.google.com/notebooks/data_table.ipynb>data table notebook</a>'\n",
              "          + ' to learn more about interactive tables.';\n",
              "        element.innerHTML = '';\n",
              "        dataTable['output_type'] = 'display_data';\n",
              "        await google.colab.output.renderOutput(dataTable, element);\n",
              "        const docLink = document.createElement('div');\n",
              "        docLink.innerHTML = docLinkHtml;\n",
              "        element.appendChild(docLink);\n",
              "      }\n",
              "    </script>\n",
              "  </div>\n",
              "\n",
              "\n",
              "<div id=\"df-755481d0-35b5-4ba2-b250-aff1f1c29b5f\">\n",
              "  <button class=\"colab-df-quickchart\" onclick=\"quickchart('df-755481d0-35b5-4ba2-b250-aff1f1c29b5f')\"\n",
              "            title=\"Suggest charts\"\n",
              "            style=\"display:none;\">\n",
              "\n",
              "<svg xmlns=\"http://www.w3.org/2000/svg\" height=\"24px\"viewBox=\"0 0 24 24\"\n",
              "     width=\"24px\">\n",
              "    <g>\n",
              "        <path d=\"M19 3H5c-1.1 0-2 .9-2 2v14c0 1.1.9 2 2 2h14c1.1 0 2-.9 2-2V5c0-1.1-.9-2-2-2zM9 17H7v-7h2v7zm4 0h-2V7h2v10zm4 0h-2v-4h2v4z\"/>\n",
              "    </g>\n",
              "</svg>\n",
              "  </button>\n",
              "\n",
              "<style>\n",
              "  .colab-df-quickchart {\n",
              "      --bg-color: #E8F0FE;\n",
              "      --fill-color: #1967D2;\n",
              "      --hover-bg-color: #E2EBFA;\n",
              "      --hover-fill-color: #174EA6;\n",
              "      --disabled-fill-color: #AAA;\n",
              "      --disabled-bg-color: #DDD;\n",
              "  }\n",
              "\n",
              "  [theme=dark] .colab-df-quickchart {\n",
              "      --bg-color: #3B4455;\n",
              "      --fill-color: #D2E3FC;\n",
              "      --hover-bg-color: #434B5C;\n",
              "      --hover-fill-color: #FFFFFF;\n",
              "      --disabled-bg-color: #3B4455;\n",
              "      --disabled-fill-color: #666;\n",
              "  }\n",
              "\n",
              "  .colab-df-quickchart {\n",
              "    background-color: var(--bg-color);\n",
              "    border: none;\n",
              "    border-radius: 50%;\n",
              "    cursor: pointer;\n",
              "    display: none;\n",
              "    fill: var(--fill-color);\n",
              "    height: 32px;\n",
              "    padding: 0;\n",
              "    width: 32px;\n",
              "  }\n",
              "\n",
              "  .colab-df-quickchart:hover {\n",
              "    background-color: var(--hover-bg-color);\n",
              "    box-shadow: 0 1px 2px rgba(60, 64, 67, 0.3), 0 1px 3px 1px rgba(60, 64, 67, 0.15);\n",
              "    fill: var(--button-hover-fill-color);\n",
              "  }\n",
              "\n",
              "  .colab-df-quickchart-complete:disabled,\n",
              "  .colab-df-quickchart-complete:disabled:hover {\n",
              "    background-color: var(--disabled-bg-color);\n",
              "    fill: var(--disabled-fill-color);\n",
              "    box-shadow: none;\n",
              "  }\n",
              "\n",
              "  .colab-df-spinner {\n",
              "    border: 2px solid var(--fill-color);\n",
              "    border-color: transparent;\n",
              "    border-bottom-color: var(--fill-color);\n",
              "    animation:\n",
              "      spin 1s steps(1) infinite;\n",
              "  }\n",
              "\n",
              "  @keyframes spin {\n",
              "    0% {\n",
              "      border-color: transparent;\n",
              "      border-bottom-color: var(--fill-color);\n",
              "      border-left-color: var(--fill-color);\n",
              "    }\n",
              "    20% {\n",
              "      border-color: transparent;\n",
              "      border-left-color: var(--fill-color);\n",
              "      border-top-color: var(--fill-color);\n",
              "    }\n",
              "    30% {\n",
              "      border-color: transparent;\n",
              "      border-left-color: var(--fill-color);\n",
              "      border-top-color: var(--fill-color);\n",
              "      border-right-color: var(--fill-color);\n",
              "    }\n",
              "    40% {\n",
              "      border-color: transparent;\n",
              "      border-right-color: var(--fill-color);\n",
              "      border-top-color: var(--fill-color);\n",
              "    }\n",
              "    60% {\n",
              "      border-color: transparent;\n",
              "      border-right-color: var(--fill-color);\n",
              "    }\n",
              "    80% {\n",
              "      border-color: transparent;\n",
              "      border-right-color: var(--fill-color);\n",
              "      border-bottom-color: var(--fill-color);\n",
              "    }\n",
              "    90% {\n",
              "      border-color: transparent;\n",
              "      border-bottom-color: var(--fill-color);\n",
              "    }\n",
              "  }\n",
              "</style>\n",
              "\n",
              "  <script>\n",
              "    async function quickchart(key) {\n",
              "      const quickchartButtonEl =\n",
              "        document.querySelector('#' + key + ' button');\n",
              "      quickchartButtonEl.disabled = true;  // To prevent multiple clicks.\n",
              "      quickchartButtonEl.classList.add('colab-df-spinner');\n",
              "      try {\n",
              "        const charts = await google.colab.kernel.invokeFunction(\n",
              "            'suggestCharts', [key], {});\n",
              "      } catch (error) {\n",
              "        console.error('Error during call to suggestCharts:', error);\n",
              "      }\n",
              "      quickchartButtonEl.classList.remove('colab-df-spinner');\n",
              "      quickchartButtonEl.classList.add('colab-df-quickchart-complete');\n",
              "    }\n",
              "    (() => {\n",
              "      let quickchartButtonEl =\n",
              "        document.querySelector('#df-755481d0-35b5-4ba2-b250-aff1f1c29b5f button');\n",
              "      quickchartButtonEl.style.display =\n",
              "        google.colab.kernel.accessAllowed ? 'block' : 'none';\n",
              "    })();\n",
              "  </script>\n",
              "</div>\n",
              "\n",
              "    </div>\n",
              "  </div>\n"
            ],
            "application/vnd.google.colaboratory.intrinsic+json": {
              "type": "dataframe",
              "summary": "{\n  \"name\": \"#from nltk\",\n  \"rows\": 5,\n  \"fields\": [\n    {\n      \"column\": \"full\",\n      \"properties\": {\n        \"dtype\": \"string\",\n        \"num_unique_values\": 5,\n        \"samples\": [\n          \"2022-05-10, 08:31 p.m. - Sarah: Aww, you always know how to make my heart flutter! I miss you so much.\\n\",\n          \"2022-05-10, 08:34 p.m. - John: Yes, I will never forget that night. It felt like the universe was conspiring to bring us closer.\\n\",\n          \"2022-05-10, 08:32 p.m. - John: I miss you too, darling. Every moment without you feels incomplete.\\n\"\n        ],\n        \"semantic_type\": \"\",\n        \"description\": \"\"\n      }\n    }\n  ]\n}"
            }
          },
          "metadata": {},
          "execution_count": 33
        }
      ]
    },
    {
      "cell_type": "code",
      "source": [
        "import nltk\n",
        "from nltk.tokenize import word_tokenize\n",
        "#words = word_tokenize(data)\n",
        "import string as str"
      ],
      "metadata": {
        "id": "zadBK6Vdwy4g"
      },
      "execution_count": null,
      "outputs": []
    },
    {
      "cell_type": "code",
      "source": [
        "df.head()"
      ],
      "metadata": {
        "colab": {
          "base_uri": "https://localhost:8080/",
          "height": 204
        },
        "id": "_2Bl7Jdh1THy",
        "outputId": "60be86e7-f605-41e0-ba53-8185ed27dec9"
      },
      "execution_count": null,
      "outputs": [
        {
          "output_type": "execute_result",
          "data": {
            "text/plain": [
              "                                                full\n",
              "0  2022-05-10, 08:30 p.m. - John: Hey love, just ...\n",
              "1  2022-05-10, 08:31 p.m. - Sarah: Aww, you alway...\n",
              "2  2022-05-10, 08:32 p.m. - John: I miss you too,...\n",
              "3  2022-05-10, 08:33 p.m. - Sarah: Remember when ...\n",
              "4  2022-05-10, 08:34 p.m. - John: Yes, I will nev..."
            ],
            "text/html": [
              "\n",
              "  <div id=\"df-dbfaea9e-61db-435a-b999-2b98f54ffef9\" class=\"colab-df-container\">\n",
              "    <div>\n",
              "<style scoped>\n",
              "    .dataframe tbody tr th:only-of-type {\n",
              "        vertical-align: middle;\n",
              "    }\n",
              "\n",
              "    .dataframe tbody tr th {\n",
              "        vertical-align: top;\n",
              "    }\n",
              "\n",
              "    .dataframe thead th {\n",
              "        text-align: right;\n",
              "    }\n",
              "</style>\n",
              "<table border=\"1\" class=\"dataframe\">\n",
              "  <thead>\n",
              "    <tr style=\"text-align: right;\">\n",
              "      <th></th>\n",
              "      <th>full</th>\n",
              "    </tr>\n",
              "  </thead>\n",
              "  <tbody>\n",
              "    <tr>\n",
              "      <th>0</th>\n",
              "      <td>2022-05-10, 08:30 p.m. - John: Hey love, just ...</td>\n",
              "    </tr>\n",
              "    <tr>\n",
              "      <th>1</th>\n",
              "      <td>2022-05-10, 08:31 p.m. - Sarah: Aww, you alway...</td>\n",
              "    </tr>\n",
              "    <tr>\n",
              "      <th>2</th>\n",
              "      <td>2022-05-10, 08:32 p.m. - John: I miss you too,...</td>\n",
              "    </tr>\n",
              "    <tr>\n",
              "      <th>3</th>\n",
              "      <td>2022-05-10, 08:33 p.m. - Sarah: Remember when ...</td>\n",
              "    </tr>\n",
              "    <tr>\n",
              "      <th>4</th>\n",
              "      <td>2022-05-10, 08:34 p.m. - John: Yes, I will nev...</td>\n",
              "    </tr>\n",
              "  </tbody>\n",
              "</table>\n",
              "</div>\n",
              "    <div class=\"colab-df-buttons\">\n",
              "\n",
              "  <div class=\"colab-df-container\">\n",
              "    <button class=\"colab-df-convert\" onclick=\"convertToInteractive('df-dbfaea9e-61db-435a-b999-2b98f54ffef9')\"\n",
              "            title=\"Convert this dataframe to an interactive table.\"\n",
              "            style=\"display:none;\">\n",
              "\n",
              "  <svg xmlns=\"http://www.w3.org/2000/svg\" height=\"24px\" viewBox=\"0 -960 960 960\">\n",
              "    <path d=\"M120-120v-720h720v720H120Zm60-500h600v-160H180v160Zm220 220h160v-160H400v160Zm0 220h160v-160H400v160ZM180-400h160v-160H180v160Zm440 0h160v-160H620v160ZM180-180h160v-160H180v160Zm440 0h160v-160H620v160Z\"/>\n",
              "  </svg>\n",
              "    </button>\n",
              "\n",
              "  <style>\n",
              "    .colab-df-container {\n",
              "      display:flex;\n",
              "      gap: 12px;\n",
              "    }\n",
              "\n",
              "    .colab-df-convert {\n",
              "      background-color: #E8F0FE;\n",
              "      border: none;\n",
              "      border-radius: 50%;\n",
              "      cursor: pointer;\n",
              "      display: none;\n",
              "      fill: #1967D2;\n",
              "      height: 32px;\n",
              "      padding: 0 0 0 0;\n",
              "      width: 32px;\n",
              "    }\n",
              "\n",
              "    .colab-df-convert:hover {\n",
              "      background-color: #E2EBFA;\n",
              "      box-shadow: 0px 1px 2px rgba(60, 64, 67, 0.3), 0px 1px 3px 1px rgba(60, 64, 67, 0.15);\n",
              "      fill: #174EA6;\n",
              "    }\n",
              "\n",
              "    .colab-df-buttons div {\n",
              "      margin-bottom: 4px;\n",
              "    }\n",
              "\n",
              "    [theme=dark] .colab-df-convert {\n",
              "      background-color: #3B4455;\n",
              "      fill: #D2E3FC;\n",
              "    }\n",
              "\n",
              "    [theme=dark] .colab-df-convert:hover {\n",
              "      background-color: #434B5C;\n",
              "      box-shadow: 0px 1px 3px 1px rgba(0, 0, 0, 0.15);\n",
              "      filter: drop-shadow(0px 1px 2px rgba(0, 0, 0, 0.3));\n",
              "      fill: #FFFFFF;\n",
              "    }\n",
              "  </style>\n",
              "\n",
              "    <script>\n",
              "      const buttonEl =\n",
              "        document.querySelector('#df-dbfaea9e-61db-435a-b999-2b98f54ffef9 button.colab-df-convert');\n",
              "      buttonEl.style.display =\n",
              "        google.colab.kernel.accessAllowed ? 'block' : 'none';\n",
              "\n",
              "      async function convertToInteractive(key) {\n",
              "        const element = document.querySelector('#df-dbfaea9e-61db-435a-b999-2b98f54ffef9');\n",
              "        const dataTable =\n",
              "          await google.colab.kernel.invokeFunction('convertToInteractive',\n",
              "                                                    [key], {});\n",
              "        if (!dataTable) return;\n",
              "\n",
              "        const docLinkHtml = 'Like what you see? Visit the ' +\n",
              "          '<a target=\"_blank\" href=https://colab.research.google.com/notebooks/data_table.ipynb>data table notebook</a>'\n",
              "          + ' to learn more about interactive tables.';\n",
              "        element.innerHTML = '';\n",
              "        dataTable['output_type'] = 'display_data';\n",
              "        await google.colab.output.renderOutput(dataTable, element);\n",
              "        const docLink = document.createElement('div');\n",
              "        docLink.innerHTML = docLinkHtml;\n",
              "        element.appendChild(docLink);\n",
              "      }\n",
              "    </script>\n",
              "  </div>\n",
              "\n",
              "\n",
              "<div id=\"df-898fb780-8263-4cbd-9140-8fb04506fde3\">\n",
              "  <button class=\"colab-df-quickchart\" onclick=\"quickchart('df-898fb780-8263-4cbd-9140-8fb04506fde3')\"\n",
              "            title=\"Suggest charts\"\n",
              "            style=\"display:none;\">\n",
              "\n",
              "<svg xmlns=\"http://www.w3.org/2000/svg\" height=\"24px\"viewBox=\"0 0 24 24\"\n",
              "     width=\"24px\">\n",
              "    <g>\n",
              "        <path d=\"M19 3H5c-1.1 0-2 .9-2 2v14c0 1.1.9 2 2 2h14c1.1 0 2-.9 2-2V5c0-1.1-.9-2-2-2zM9 17H7v-7h2v7zm4 0h-2V7h2v10zm4 0h-2v-4h2v4z\"/>\n",
              "    </g>\n",
              "</svg>\n",
              "  </button>\n",
              "\n",
              "<style>\n",
              "  .colab-df-quickchart {\n",
              "      --bg-color: #E8F0FE;\n",
              "      --fill-color: #1967D2;\n",
              "      --hover-bg-color: #E2EBFA;\n",
              "      --hover-fill-color: #174EA6;\n",
              "      --disabled-fill-color: #AAA;\n",
              "      --disabled-bg-color: #DDD;\n",
              "  }\n",
              "\n",
              "  [theme=dark] .colab-df-quickchart {\n",
              "      --bg-color: #3B4455;\n",
              "      --fill-color: #D2E3FC;\n",
              "      --hover-bg-color: #434B5C;\n",
              "      --hover-fill-color: #FFFFFF;\n",
              "      --disabled-bg-color: #3B4455;\n",
              "      --disabled-fill-color: #666;\n",
              "  }\n",
              "\n",
              "  .colab-df-quickchart {\n",
              "    background-color: var(--bg-color);\n",
              "    border: none;\n",
              "    border-radius: 50%;\n",
              "    cursor: pointer;\n",
              "    display: none;\n",
              "    fill: var(--fill-color);\n",
              "    height: 32px;\n",
              "    padding: 0;\n",
              "    width: 32px;\n",
              "  }\n",
              "\n",
              "  .colab-df-quickchart:hover {\n",
              "    background-color: var(--hover-bg-color);\n",
              "    box-shadow: 0 1px 2px rgba(60, 64, 67, 0.3), 0 1px 3px 1px rgba(60, 64, 67, 0.15);\n",
              "    fill: var(--button-hover-fill-color);\n",
              "  }\n",
              "\n",
              "  .colab-df-quickchart-complete:disabled,\n",
              "  .colab-df-quickchart-complete:disabled:hover {\n",
              "    background-color: var(--disabled-bg-color);\n",
              "    fill: var(--disabled-fill-color);\n",
              "    box-shadow: none;\n",
              "  }\n",
              "\n",
              "  .colab-df-spinner {\n",
              "    border: 2px solid var(--fill-color);\n",
              "    border-color: transparent;\n",
              "    border-bottom-color: var(--fill-color);\n",
              "    animation:\n",
              "      spin 1s steps(1) infinite;\n",
              "  }\n",
              "\n",
              "  @keyframes spin {\n",
              "    0% {\n",
              "      border-color: transparent;\n",
              "      border-bottom-color: var(--fill-color);\n",
              "      border-left-color: var(--fill-color);\n",
              "    }\n",
              "    20% {\n",
              "      border-color: transparent;\n",
              "      border-left-color: var(--fill-color);\n",
              "      border-top-color: var(--fill-color);\n",
              "    }\n",
              "    30% {\n",
              "      border-color: transparent;\n",
              "      border-left-color: var(--fill-color);\n",
              "      border-top-color: var(--fill-color);\n",
              "      border-right-color: var(--fill-color);\n",
              "    }\n",
              "    40% {\n",
              "      border-color: transparent;\n",
              "      border-right-color: var(--fill-color);\n",
              "      border-top-color: var(--fill-color);\n",
              "    }\n",
              "    60% {\n",
              "      border-color: transparent;\n",
              "      border-right-color: var(--fill-color);\n",
              "    }\n",
              "    80% {\n",
              "      border-color: transparent;\n",
              "      border-right-color: var(--fill-color);\n",
              "      border-bottom-color: var(--fill-color);\n",
              "    }\n",
              "    90% {\n",
              "      border-color: transparent;\n",
              "      border-bottom-color: var(--fill-color);\n",
              "    }\n",
              "  }\n",
              "</style>\n",
              "\n",
              "  <script>\n",
              "    async function quickchart(key) {\n",
              "      const quickchartButtonEl =\n",
              "        document.querySelector('#' + key + ' button');\n",
              "      quickchartButtonEl.disabled = true;  // To prevent multiple clicks.\n",
              "      quickchartButtonEl.classList.add('colab-df-spinner');\n",
              "      try {\n",
              "        const charts = await google.colab.kernel.invokeFunction(\n",
              "            'suggestCharts', [key], {});\n",
              "      } catch (error) {\n",
              "        console.error('Error during call to suggestCharts:', error);\n",
              "      }\n",
              "      quickchartButtonEl.classList.remove('colab-df-spinner');\n",
              "      quickchartButtonEl.classList.add('colab-df-quickchart-complete');\n",
              "    }\n",
              "    (() => {\n",
              "      let quickchartButtonEl =\n",
              "        document.querySelector('#df-898fb780-8263-4cbd-9140-8fb04506fde3 button');\n",
              "      quickchartButtonEl.style.display =\n",
              "        google.colab.kernel.accessAllowed ? 'block' : 'none';\n",
              "    })();\n",
              "  </script>\n",
              "</div>\n",
              "\n",
              "    </div>\n",
              "  </div>\n"
            ],
            "application/vnd.google.colaboratory.intrinsic+json": {
              "type": "dataframe",
              "variable_name": "df",
              "summary": "{\n  \"name\": \"df\",\n  \"rows\": 42,\n  \"fields\": [\n    {\n      \"column\": \"full\",\n      \"properties\": {\n        \"dtype\": \"string\",\n        \"num_unique_values\": 42,\n        \"samples\": [\n          \"2023-03-03, 05:10 p.m. - Sarah: Oh no, that is not good! Sending you virtual hugs! My day was okay, but I would much rather be there to help you unwind. Anything I can do from here?\\n\",\n          \"2023-02-14, 10:00 a.m. - Sarah: Good morning sunshine! Happy Valentine's Day to the most amazing boyfriend a girl could ask for.\\n\",\n          \"2022-05-10, 08:38 p.m. - John: And you are my guiding light, Sarah. With you by my side, I feel invincible.\\n\"\n        ],\n        \"semantic_type\": \"\",\n        \"description\": \"\"\n      }\n    }\n  ]\n}"
            }
          },
          "metadata": {},
          "execution_count": 35
        }
      ]
    },
    {
      "cell_type": "code",
      "source": [
        "parsed_data = []\n",
        "for index, row in df.iterrows():\n",
        "  #line = row.str.split(\" - \")\n",
        "  #line = row['full'].str.split(\" - \", n=1, expand=True)\n",
        "  line = row['full'].split(\" - \", 1)  # Split the full string directly\n",
        "  date_time, message = line[0][0], line[0][1]\n",
        "  date, time = date_time.split(\", \",1)\n",
        "  name, message_text = message.split(\": \", 1)\n",
        "  message_text = message_text.strip()\n",
        "  parsed_data.append({'Date': date, 'Time': time, 'User': name, 'Content': message_text})\n",
        "\n",
        "new_df = pd.DataFrame(parsed_data)\n"
      ],
      "metadata": {
        "id": "ZfTwtwgl0-L-",
        "colab": {
          "base_uri": "https://localhost:8080/",
          "height": 207
        },
        "outputId": "7b7081b3-7502-43c5-e776-758a9cc9a120"
      },
      "execution_count": null,
      "outputs": [
        {
          "output_type": "error",
          "ename": "ValueError",
          "evalue": "not enough values to unpack (expected 2, got 1)",
          "traceback": [
            "\u001b[0;31m---------------------------------------------------------------------------\u001b[0m",
            "\u001b[0;31mValueError\u001b[0m                                Traceback (most recent call last)",
            "\u001b[0;32m<ipython-input-36-07953342898f>\u001b[0m in \u001b[0;36m<cell line: 2>\u001b[0;34m()\u001b[0m\n\u001b[1;32m      5\u001b[0m   \u001b[0mline\u001b[0m \u001b[0;34m=\u001b[0m \u001b[0mrow\u001b[0m\u001b[0;34m[\u001b[0m\u001b[0;34m'full'\u001b[0m\u001b[0;34m]\u001b[0m\u001b[0;34m.\u001b[0m\u001b[0msplit\u001b[0m\u001b[0;34m(\u001b[0m\u001b[0;34m\" - \"\u001b[0m\u001b[0;34m,\u001b[0m \u001b[0;36m1\u001b[0m\u001b[0;34m)\u001b[0m  \u001b[0;31m# Split the full string directly\u001b[0m\u001b[0;34m\u001b[0m\u001b[0;34m\u001b[0m\u001b[0m\n\u001b[1;32m      6\u001b[0m   \u001b[0mdate_time\u001b[0m\u001b[0;34m,\u001b[0m \u001b[0mmessage\u001b[0m \u001b[0;34m=\u001b[0m \u001b[0mline\u001b[0m\u001b[0;34m[\u001b[0m\u001b[0;36m0\u001b[0m\u001b[0;34m]\u001b[0m\u001b[0;34m[\u001b[0m\u001b[0;36m0\u001b[0m\u001b[0;34m]\u001b[0m\u001b[0;34m,\u001b[0m \u001b[0mline\u001b[0m\u001b[0;34m[\u001b[0m\u001b[0;36m0\u001b[0m\u001b[0;34m]\u001b[0m\u001b[0;34m[\u001b[0m\u001b[0;36m1\u001b[0m\u001b[0;34m]\u001b[0m\u001b[0;34m\u001b[0m\u001b[0;34m\u001b[0m\u001b[0m\n\u001b[0;32m----> 7\u001b[0;31m   \u001b[0mdate\u001b[0m\u001b[0;34m,\u001b[0m \u001b[0mtime\u001b[0m \u001b[0;34m=\u001b[0m \u001b[0mdate_time\u001b[0m\u001b[0;34m.\u001b[0m\u001b[0msplit\u001b[0m\u001b[0;34m(\u001b[0m\u001b[0;34m\", \"\u001b[0m\u001b[0;34m,\u001b[0m\u001b[0;36m1\u001b[0m\u001b[0;34m)\u001b[0m\u001b[0;34m\u001b[0m\u001b[0;34m\u001b[0m\u001b[0m\n\u001b[0m\u001b[1;32m      8\u001b[0m   \u001b[0mname\u001b[0m\u001b[0;34m,\u001b[0m \u001b[0mmessage_text\u001b[0m \u001b[0;34m=\u001b[0m \u001b[0mmessage\u001b[0m\u001b[0;34m.\u001b[0m\u001b[0msplit\u001b[0m\u001b[0;34m(\u001b[0m\u001b[0;34m\": \"\u001b[0m\u001b[0;34m,\u001b[0m \u001b[0;36m1\u001b[0m\u001b[0;34m)\u001b[0m\u001b[0;34m\u001b[0m\u001b[0;34m\u001b[0m\u001b[0m\n\u001b[1;32m      9\u001b[0m   \u001b[0mmessage_text\u001b[0m \u001b[0;34m=\u001b[0m \u001b[0mmessage_text\u001b[0m\u001b[0;34m.\u001b[0m\u001b[0mstrip\u001b[0m\u001b[0;34m(\u001b[0m\u001b[0;34m)\u001b[0m\u001b[0;34m\u001b[0m\u001b[0;34m\u001b[0m\u001b[0m\n",
            "\u001b[0;31mValueError\u001b[0m: not enough values to unpack (expected 2, got 1)"
          ]
        }
      ]
    },
    {
      "cell_type": "code",
      "source": [
        "new_df"
      ],
      "metadata": {
        "colab": {
          "base_uri": "https://localhost:8080/",
          "height": 139
        },
        "id": "xZUlQKE84PIn",
        "outputId": "abcb322f-a45c-402c-c6f6-ec035d4f9a4d"
      },
      "execution_count": null,
      "outputs": [
        {
          "output_type": "error",
          "ename": "NameError",
          "evalue": "name 'new_df' is not defined",
          "traceback": [
            "\u001b[0;31m---------------------------------------------------------------------------\u001b[0m",
            "\u001b[0;31mNameError\u001b[0m                                 Traceback (most recent call last)",
            "\u001b[0;32m<ipython-input-170-3669fb29dbf6>\u001b[0m in \u001b[0;36m<cell line: 1>\u001b[0;34m()\u001b[0m\n\u001b[0;32m----> 1\u001b[0;31m \u001b[0mnew_df\u001b[0m\u001b[0;34m\u001b[0m\u001b[0;34m\u001b[0m\u001b[0m\n\u001b[0m",
            "\u001b[0;31mNameError\u001b[0m: name 'new_df' is not defined"
          ]
        }
      ]
    },
    {
      "source": [
        "# @title Date vs count()\n",
        "\n",
        "from matplotlib import pyplot as plt\n",
        "import seaborn as sns\n",
        "def _plot_series(series, series_name, series_index=0):\n",
        "  palette = list(sns.palettes.mpl_palette('Dark2'))\n",
        "  counted = (series['Date']\n",
        "                .value_counts()\n",
        "              .reset_index(name='counts')\n",
        "              .rename({'index': 'Date'}, axis=1)\n",
        "              .sort_values('Date', ascending=True))\n",
        "  xs = counted['Date']\n",
        "  ys = counted['counts']\n",
        "  plt.plot(xs, ys, label=series_name, color=palette[series_index % len(palette)])\n",
        "\n",
        "fig, ax = plt.subplots(figsize=(10, 5.2), layout='constrained')\n",
        "df_sorted = new_df.sort_values('Date', ascending=True)\n",
        "for i, (series_name, series) in enumerate(df_sorted.groupby('User')):\n",
        "  _plot_series(series, series_name, i)\n",
        "  fig.legend(title='User', bbox_to_anchor=(1, 1), loc='upper left')\n",
        "sns.despine(fig=fig, ax=ax)\n",
        "plt.xlabel('Date')\n",
        "_ = plt.ylabel('count()')"
      ],
      "cell_type": "code",
      "execution_count": null,
      "outputs": [
        {
          "output_type": "display_data",
          "data": {
            "text/plain": [
              "<Figure size 1000x520 with 1 Axes>"
            ],
            "image/png": "[encoded data removed]"
          },
          "metadata": {}
        }
      ],
      "metadata": {
        "colab": {
          "base_uri": "https://localhost:8080/",
          "height": 548
        },
        "id": "vEdnjRKPUBNS",
        "outputId": "5e3d1bd3-8c9b-4126-c2c9-9db618a2cb8f"
      }
    },
    {
      "cell_type": "code",
      "source": [
        "print(line)"
      ],
      "metadata": {
        "colab": {
          "base_uri": "https://localhost:8080/"
        },
        "id": "IoyMwRdi26WU",
        "outputId": "a9d318cb-6998-419b-effd-0e3c13ea5676"
      },
      "execution_count": null,
      "outputs": [
        {
          "output_type": "stream",
          "name": "stdout",
          "text": [
            "full    [2022-12-18, 1:00 p.m., Khwaish Dehra: How far...\n",
            "Name: 14, dtype: object\n"
          ]
        }
      ]
    },
    {
      "cell_type": "code",
      "source": [
        "2022-05-10, 08:30 p.m. - John: Hey love, just wanted to let you know that you are on my mind constantly.\n",
        "2022-05-10, 08:31 p.m. - Sarah: Aww, you always know how to make my heart flutter! I miss you so much.\n",
        "2022-05-10, 08:32 p.m. - John: I miss you too, darling. Every moment without you feels incomplete.\n",
        "2022-05-10, 08:33 p.m. - Sarah: Remember when we watched the stars together last summer? It was magical.\n",
        "2022-05-10, 08:34 p.m. - John: Yes, I will never forget that night. It felt like the universe was conspiring to bring us closer.\n",
        "2022-05-10, 08:35 p.m. - Sarah: I wish we could relive that moment every day. It was pure bliss being in your arms.\n",
        "2022-05-10, 08:36 p.m. - John: Me too, my love. But even when we are apart, you are always in my heart.\n",
        "2022-05-10, 08:37 p.m. - Sarah: You are my rock, John. Knowing you are there for me makes everything seem possible.\n",
        "2022-05-10, 08:38 p.m. - John: And you are my guiding light, Sarah. With you by my side, I feel invincible.\n",
        "2022-05-10, 08:39 p.m. - Sarah: Let us promise to always support and cherish each other, no matter what life throws our way.\n",
        "2022-05-10, 08:40 p.m. - John: I promise, my love. Together, we can conquer anything.\n",
        "2022-05-10, 08:41 p.m. - Sarah: Forever and always.\n",
        "2022-05-10, 08:42 p.m. - John: Forever and always.\n",
        "2023-02-14, 10:00 a.m. - Sarah: Good morning sunshine! Happy Valentine's Day to the most amazing boyfriend a girl could ask for.\n",
        " 2023-02-14, 10:05 a.m. - John: Good morning beautiful! Woke up thinking about you too. Your message made my day already.  What are you up to today?\n",
        " 2023-02-14, 10:10 a.m. - Sarah: Just getting some work done at home this morning. But I'm definitely planning on taking some time off later to celebrate with you! Any special plans in mind?\n",
        " 2023-02-14, 10:15 a.m. - John: I was actually hoping to surprise you! I can't tell you all the details yet, but how about you get ready for a romantic evening?\n",
        " 2023-02-14, 10:20 a.m. - Sarah: (heart emoji)  Love surprises! Can't wait to see what you have planned. I'll definitely be ready for a romantic evening.\n",
        " 2023-02-14, 07:00 p.m. - John: Hey beautiful, I'm just outside your door. Open up!\n",
        "\n",
        " 2023-02-14, 07:05 p.m. - Sarah:(blushing emoji)  On my way!\n",
        " 2023-02-14, 11:30 p.m. - Sarah: Wow, John, that was incredible! Thank you for such a magical Valentine's Day.\n",
        "\n",
        " 2023-02-14, 11:35 p.m. - John: Seeing the smile on your face was the best part of my night. I am so happy you had a good time. You deserve it all.\n",
        "\n",
        " 2023-02-15, 08:00 a.m. - John: Good morning again beautiful. Still cannot stop thinking about you.\n",
        "\n",
        " 2023-02-15, 08:10 a.m. - Sarah: Good morning to you too! Waking up feeling happy and loved, thanks to you.\n",
        " #Next month\n",
        " 2023-03-03, 05:00 p.m. - John: Hey love, how was your day? Feeling a little stressed from work here.\n",
        "\n",
        " 2023-03-03, 05:10 p.m. - Sarah: Oh no, that is not good! Sending you virtual hugs! My day was okay, but I would much rather be there to help you unwind. Anything I can do from here?\n",
        "\n",
        " 2023-03-03, 05:15 p.m. - John: Just hearing from you helps a lot. Maybe we can video chat later and you can distract me with your beautiful smile?\n",
        "\n",
        " 2023-03-03, 05:20 p.m. - Sarah: Definitely! Count me in. I will be free around 7 p.m. Does that work for you?\n",
        "\n",
        " 2023-03-03, 05:25 p.m. - John: Perfect! Can't wait to see you (even virtually). That definitely helps with the stress already.\n",
        " 2023-03-03, 09:00 p.m. - John: Thanks for the video chat, love. Feeling much better now.  You always know how to cheer me up.\n",
        "\n",
        " 2023-03-03, 09:05 p.m. - Sarah: I am glad I could help! Always happy to be your stress reliever.  But seriously, don't push yourself too hard at work. Remember, you deserve some rest and relaxation too.\n",
        "\n",
        " 2023-03-03, 09:10 p.m. - John: You are right, I promise to take it easier tomorrow. And maybe I can make it up to you with a nice dinner this weekend?\n",
        "#fighty coniversation\n",
        "2023-05-20, 11:45 a.m. - John: I cannot believe you forgot our anniversary again!\n",
        "2023-05-20, 11:46 a.m. - Sarah: Oh please, like you remember anything important without me reminding you!\n",
        "2023-05-20, 11:47 a.m. - John: That is not fair! I work hard to provide for us.\n",
        "2023-05-20, 11:48 a.m. - Sarah: Providing doesnot excuse forgetting the most special day of the year for us!\n",
        "2023-05-20, 11:49 a.m. - John: Well, maybe if you showed some appreciation once in a while, I would remember!\n",
        "2023-05-20, 11:50 a.m. - Sarah: Appreciation? You want appreciation for basic responsibilities?\n",
        "2023-05-20, 11:51 a.m. - John: You know what? Forget it. I am tired of arguing with you.\n",
        "2023-05-20, 11:52 a.m. - Sarah: Fine, go bury your head in work like you always do.\n",
        "2023-05-20, 11:53 a.m. - John: I cannot talk to you when you are like this. I am leaving.\n",
        "2023-05-20, 11:54 a.m. - Sarah: Just go! You never listen anyway!"
      ],
      "metadata": {
        "colab": {
          "base_uri": "https://localhost:8080/",
          "height": 105
        },
        "id": "vXylq7lszybC",
        "outputId": "35a55a56-9dc5-48bf-d28b-0362134850a3"
      },
      "execution_count": null,
      "outputs": [
        {
          "output_type": "error",
          "ename": "SyntaxError",
          "evalue": "leading zeros in decimal integer literals are not permitted; use an 0o prefix for octal integers (<ipython-input-98-cf8d5e0f78bc>, line 1)",
          "traceback": [
            "\u001b[0;36m  File \u001b[0;32m\"<ipython-input-98-cf8d5e0f78bc>\"\u001b[0;36m, line \u001b[0;32m1\u001b[0m\n\u001b[0;31m    2022-05-10, 08:30 p.m. - John: Hey love, just wanted to let you know that you're on my mind constantly.\u001b[0m\n\u001b[0m         ^\u001b[0m\n\u001b[0;31mSyntaxError\u001b[0m\u001b[0;31m:\u001b[0m leading zeros in decimal integer literals are not permitted; use an 0o prefix for octal integers\n"
          ]
        }
      ]
    }
  ]
}